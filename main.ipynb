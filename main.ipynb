{
 "cells": [
  {
   "cell_type": "code",
   "execution_count": 1,
   "metadata": {},
   "outputs": [],
   "source": [
    "import sys, os \n",
    "sys.path.append(os.path.abspath('C:/Users/Yazeed/Desktop/workspace/flexaibuild'))"
   ]
  },
  {
   "cell_type": "code",
   "execution_count": 2,
   "metadata": {},
   "outputs": [],
   "source": [
    "import shutil\n",
    "from pathlib import Path\n",
    "\n",
    "import torch\n",
    "from torch.utils.data import DataLoader\n",
    "from torchvision.transforms import v2\n",
    "from torchvision.datasets import ImageFolder\n",
    "\n",
    "from flexai import Learner, ActivationStatsManger # type: ignore\n",
    "from utils import filetools\n",
    "import config"
   ]
  },
  {
   "cell_type": "code",
   "execution_count": 3,
   "metadata": {},
   "outputs": [],
   "source": [
    "url_dataset = \"https://www.kaggle.com/api/v1/datasets/download/cashbowman/ai-generated-images-vs-real-images?datasetVersionNumber=1\"\n",
    "path_dataset = Path('data')\n",
    "if not path_dataset.exists():\n",
    "    path_comp = filetools.download_file(url_dataset, path_dataset)\n",
    "    filetools.uncompress_and_remove(path_comp)\n",
    "    folders = ['AiArtData', 'RealArt']\n",
    "    labels = ['AI', 'Real']\n",
    "    for folder, label in zip(folders, labels):\n",
    "        shutil.move(path_dataset / folder / folder, path_dataset / label)\n",
    "        shutil.rmtree(path_dataset/ folder)"
   ]
  },
  {
   "cell_type": "code",
   "execution_count": 4,
   "metadata": {},
   "outputs": [
    {
     "name": "stdout",
     "output_type": "stream",
     "text": [
      "train: 779, valid: 97, test: 97\n"
     ]
    },
    {
     "name": "stderr",
     "output_type": "stream",
     "text": [
      "c:\\Users\\Yazeed\\Desktop\\workspace\\ai_detector\\env\\lib\\site-packages\\torchvision\\transforms\\v2\\_deprecated.py:42: UserWarning: The transform `ToTensor()` is deprecated and will be removed in a future release. Instead, please use `v2.Compose([v2.ToImage(), v2.ToDtype(torch.float32, scale=True)])`.Output is equivalent up to float precision.\n",
      "  warnings.warn(\n"
     ]
    }
   ],
   "source": [
    "root_ds = ImageFolder(\n",
    "    path_dataset,\n",
    "    transform= v2.Compose([\n",
    "        v2.ToTensor(),\n",
    "        v2.Resize((224,224), antialias=True),\n",
    "    ])\n",
    ")\n",
    "\n",
    "generator = torch.Generator().manual_seed(42)\n",
    "train_ds, valid_ds, test_ds = torch.utils.data.random_split(root_ds, [0.8, 0.1, 0.1], generator)\n",
    "\n",
    "NUM_WORKERS = os.cpu_count()\n",
    "\n",
    "dataloaders = {\n",
    "    'train': DataLoader(train_ds, batch_size=32, shuffle=True, num_workers=NUM_WORKERS),\n",
    "    'valid': DataLoader(valid_ds, batch_size=32, shuffle=False, num_workers=NUM_WORKERS),\n",
    "    'test': DataLoader(test_ds, batch_size=32, shuffle=False, num_workers=NUM_WORKERS),\n",
    "}\n",
    "\n",
    "device = 'cuda' if torch.cuda.is_available() else 'cpu'\n",
    "\n",
    "print(f'train: {len(train_ds)}, valid: {len(test_ds)}, test: {len(valid_ds)}')"
   ]
  },
  {
   "cell_type": "code",
   "execution_count": null,
   "metadata": {},
   "outputs": [],
   "source": [
    "root_ds.class_to_idx"
   ]
  },
  {
   "cell_type": "code",
   "execution_count": null,
   "metadata": {},
   "outputs": [],
   "source": [
    "from flexai.vision.utils import image_grid # type: ignore\n",
    "\n",
    "images, labels = next(iter(dataloaders['train']))\n",
    "image_grid(images, labels, {v:k for k,v in root_ds.class_to_idx.items()}, figsize=(14,8))"
   ]
  },
  {
   "cell_type": "code",
   "execution_count": null,
   "metadata": {},
   "outputs": [],
   "source": [
    "import flexai.vision.transforms as transforms_fai # type: ignore\n",
    "\n",
    "\n",
    "tfs = {\n",
    "    'train': v2.Compose([\n",
    "        v2.Normalize(config.INPUT_MEAN, config.INPUT_STD),\n",
    "        v2.AugMix(),\n",
    "        # v2.RandomChannelPermutation(),\n",
    "        # v2.RandomChoice([\n",
    "        #     v2.CenterCrop(200),\n",
    "        #     v2.CenterCrop(180),\n",
    "        #     v2.CenterCrop(160),\n",
    "        # ]\n",
    "        # ),\n",
    "        # v2.RandomGrayscale(),\n",
    "        # v2.RandomChoice([\n",
    "        #     v2.RandomErasing(),\n",
    "        #     transforms_fai.RandomNoise(scales=[0.4, 0.4]),\n",
    "        # ]\n",
    "        # ),\n",
    "    ]),\n",
    "    'valid': v2.Normalize(config.INPUT_MEAN, config.INPUT_STD),\n",
    "}"
   ]
  },
  {
   "cell_type": "code",
   "execution_count": null,
   "metadata": {},
   "outputs": [],
   "source": [
    "from torch.optim import SGD\n",
    "from torch.nn import CrossEntropyLoss\n",
    "from torcheval.metrics.functional import multiclass_accuracy\n",
    "from flexai.callbacks import LRFinderCB, TransformCB, LoggerCB, MetricPlotterCB, ForwardHookCB, LSUVCB # type: ignore\n",
    "\n",
    "model = config.MODEL\n",
    "for module in model.modules():\n",
    "    freeze = False if (type(module).__name__ == 'BatchNorm2d') else True\n",
    "    module.requires_grad_(freeze)\n",
    "  \n",
    "\n",
    "model.to(device)\n",
    "metrics = {'loss': CrossEntropyLoss(), 'accuracy': multiclass_accuracy}\n",
    "optimizer = SGD(model.parameters(), lr=1e-3, weight_decay=0.1)"
   ]
  },
  {
   "cell_type": "code",
   "execution_count": null,
   "metadata": {},
   "outputs": [],
   "source": [
    "from torch.optim.lr_scheduler import ExponentialLR\n",
    "lr_scheduler = ExponentialLR(optimizer, gamma=1.33)\n",
    "Learner(\n",
    "    model,\n",
    "    dataloaders,\n",
    "    optimizer,\n",
    "    metrics,\n",
    "    callbacks=[\n",
    "        LRFinderCB(lr_scheduler, start_lr=1e-7, max_lr=1, break_f=5),\n",
    "        TransformCB(transform=tfs['train'], phase='train'),\n",
    "        TransformCB(transform=tfs['valid'], phase='valid'),\n",
    "    ],\n",
    "    device=device,\n",
    ").fit(3)"
   ]
  },
  {
   "cell_type": "code",
   "execution_count": null,
   "metadata": {},
   "outputs": [],
   "source": [
    "for g in optimizer.param_groups:\n",
    "    g['lr'] = 5e-3"
   ]
  },
  {
   "cell_type": "code",
   "execution_count": null,
   "metadata": {},
   "outputs": [],
   "source": [
    "manager = ActivationStatsManger(model, ['ResLayer', 'DenseLayer'])\n",
    "learner = Learner(\n",
    "    model,\n",
    "    dataloaders,\n",
    "    optimizer,\n",
    "    metrics,\n",
    "    callbacks=[\n",
    "        TransformCB(transform=tfs['train'], phase='train'),\n",
    "        TransformCB(transform=tfs['valid'], phase='valid'),\n",
    "        LoggerCB(),\n",
    "        MetricPlotterCB(),\n",
    "        ForwardHookCB(manager.register_stats),\n",
    "    ],\n",
    "    device=device\n",
    ")"
   ]
  },
  {
   "cell_type": "code",
   "execution_count": null,
   "metadata": {},
   "outputs": [],
   "source": [
    "learner.fit(5)"
   ]
  },
  {
   "cell_type": "code",
   "execution_count": null,
   "metadata": {},
   "outputs": [],
   "source": [
    "for m in list(model.children())[-3:]:\n",
    "    m.requires_grad_(True)"
   ]
  },
  {
   "cell_type": "code",
   "execution_count": null,
   "metadata": {},
   "outputs": [],
   "source": [
    "learner.fit(5)"
   ]
  },
  {
   "cell_type": "code",
   "execution_count": null,
   "metadata": {},
   "outputs": [],
   "source": [
    "manager.mean_std()\n",
    "manager.color_dim()\n",
    "manager.dead_chart()"
   ]
  },
  {
   "cell_type": "code",
   "execution_count": null,
   "metadata": {},
   "outputs": [],
   "source": [
    "model.eval()\n",
    "acc = []\n",
    "for X, y in dataloaders['test']:\n",
    "    y_pred = model(X)\n",
    "    a = metrics['accuracy'](y_pred, y)\n",
    "    acc.append(a.item())\n",
    "print(sum(acc)/len(acc))"
   ]
  },
  {
   "cell_type": "code",
   "execution_count": null,
   "metadata": {},
   "outputs": [],
   "source": [
    "learner.save_checkpoint('trained-model/checkpoint_my.pt')"
   ]
  },
  {
   "cell_type": "code",
   "execution_count": null,
   "metadata": {},
   "outputs": [],
   "source": [
    "torch.save(model.state_dict(), config.WEIGTHS_PATH)"
   ]
  }
 ],
 "metadata": {
  "kernelspec": {
   "display_name": "env",
   "language": "python",
   "name": "python3"
  },
  "language_info": {
   "codemirror_mode": {
    "name": "ipython",
    "version": 3
   },
   "file_extension": ".py",
   "mimetype": "text/x-python",
   "name": "python",
   "nbconvert_exporter": "python",
   "pygments_lexer": "ipython3",
   "version": "3.10.11"
  }
 },
 "nbformat": 4,
 "nbformat_minor": 2
}
